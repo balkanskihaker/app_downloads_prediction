{
 "cells": [
  {
   "cell_type": "code",
   "execution_count": null,
   "metadata": {},
   "outputs": [],
   "source": [
    "import pandas as pd\n",
    "import numpy as np\n",
    "import seaborn as sns\n",
    "import matplotlib.pyplot as plt\n",
    "from datetime import datetime\n",
    "from sklearn.neighbors import KNeighborsRegressor"
   ]
  },
  {
   "cell_type": "code",
   "execution_count": null,
   "metadata": {},
   "outputs": [],
   "source": [
    "# ucitvanje podataka\n",
    "\n",
    "data = pd.read_csv('./Google-Playstore.csv')\n",
    "population = pd.read_csv('./Countries-Population.csv') # podaci iz 2018. godine"
   ]
  },
  {
   "cell_type": "code",
   "execution_count": null,
   "metadata": {},
   "outputs": [],
   "source": [
    "# odbacivanje nepotrebnih podataka\n",
    "\n",
    "data.drop('App Name', axis=1, inplace=True)\n",
    "data.drop('App Id', axis=1, inplace=True)\n",
    "data.drop('Scraped Time', axis=1, inplace=True)\n",
    "data.drop('Developer Website', axis=1, inplace=True)\n",
    "data.drop('Developer Email', axis=1, inplace=True)\n",
    "data.drop('Privacy Policy', axis=1, inplace=True)\n",
    "data.drop('Currency', axis=1, inplace=True)\n",
    "data.drop('Installs', axis=1, inplace=True)\n",
    "data.drop('Minimum Installs', axis=1, inplace=True)"
   ]
  },
  {
   "cell_type": "code",
   "execution_count": null,
   "metadata": {},
   "outputs": [],
   "source": [
    "# Kodiranje\n",
    "\n",
    "data['Free'].replace({True: 1, False: 0}, inplace=True)\n",
    "data['Ad Supported'].replace({True: 1, False: 0}, inplace=True)\n",
    "data['In App Purchases'].replace({True: 1, False: 0}, inplace=True)\n",
    "data['Editors Choice'].replace({True: 1, False: 0}, inplace=True)"
   ]
  },
  {
   "cell_type": "code",
   "execution_count": null,
   "metadata": {},
   "outputs": [],
   "source": [
    "# prikupljanje svih imena iz kolone \"Category\" i pravljenje novih kolona\n",
    "\n",
    "list_of_categories = data['Category'].unique()\n",
    "categories = pd.get_dummies(data['Category'])\n",
    "categories.replace({True: 1, False: 0}, inplace=True)\n",
    "data = pd.concat([data, categories], axis=1)\n",
    "data.drop('Category', axis=1, inplace=True)\n",
    "\n",
    "_ = pd.get_dummies(data['Content Rating'])\n",
    "_.replace({True: 1, False: 0}, inplace=True)\n",
    "data = pd.concat([data, _], axis=1)\n",
    "data.drop('Content Rating', axis=1, inplace=True)"
   ]
  },
  {
   "cell_type": "code",
   "execution_count": null,
   "metadata": {},
   "outputs": [],
   "source": [
    "# generisanje jedinstvenog ID za svakog developera\n",
    "\n",
    "_ = pd.DataFrame()\n",
    "_['Developer'] = data['Developer Id'].unique()\n",
    "_['Id'] = range(1, len(_) + 1)\n",
    "\n",
    "developers_dict = dict(zip(_['Developer'], _['Id']))\n",
    "\n",
    "data['Developer Id'] = data['Developer Id'].map(developers_dict)"
   ]
  },
  {
   "cell_type": "code",
   "execution_count": null,
   "metadata": {},
   "outputs": [],
   "source": [
    "# konvertovanje velicine aplikacije\n",
    "\n",
    "def convert_to_mb(size):\n",
    "    size_str = str(size)\n",
    "\n",
    "    if (size_str[-1] == 'k'):\n",
    "        return float(size_str[:-1].replace(',', '.')) / 1024\n",
    "\n",
    "    if (size_str[-1] == 'M'):\n",
    "        return float(size_str[:-1].replace(',', '.'))\n",
    "\n",
    "    if (size_str[-1] == 'G'):\n",
    "        return float(size_str[:-1]) * 1024.0\n",
    "\n",
    "    else:\n",
    "        return None\n",
    "\n",
    "data['Size'] = data['Size'].apply(lambda x: convert_to_mb(x))"
   ]
  },
  {
   "cell_type": "code",
   "execution_count": null,
   "metadata": {},
   "outputs": [],
   "source": [
    "# prevodjenje formata datuma\n",
    "\n",
    "data['Released'] = pd.to_datetime(data['Released'])\n",
    "data['Released'] = data['Released'].dt.strftime('%d.%m.%Y') \n",
    "data['Last Updated'] = pd.to_datetime(data['Last Updated'])\n",
    "data['Last Updated'] = data['Last Updated'].dt.strftime('%d.%m.%Y') "
   ]
  },
  {
   "cell_type": "code",
   "execution_count": null,
   "metadata": {},
   "outputs": [],
   "source": [
    "# konvertovanje android verzija u datume\n",
    "\n",
    "android_versions_dict = pd.read_csv('./Android-Versions.csv')\n",
    "android_versions_dict['Android version'] = android_versions_dict['Android version'].apply(lambda x: str(x))\n",
    "android_versions_dict = dict(zip(android_versions_dict['Android version'], android_versions_dict['Release date']))\n",
    "\n",
    "def iseci(x):\n",
    "    return str(x)[:3]\n",
    "\n",
    "data['Minimum Android'] = data['Minimum Android'].apply(lambda x: iseci(x)) \n",
    "\n",
    "# Posto nemamo podatke o subverzijama androida kada su izasle, mora da gledamo samo verzije.\n",
    "android_versions_dict.update({'nan': 0})\n",
    "android_versions_dict.update({'Var': 'Varies with device'})\n",
    "\n",
    "data['Minimum Android'] = data['Minimum Android'].map(android_versions_dict)"
   ]
  },
  {
   "cell_type": "code",
   "execution_count": null,
   "metadata": {},
   "outputs": [],
   "source": [
    "# dopunjavanje NaN vrednosti\n",
    "# Pretpostavljamo da aplikacija nije imala rating-ove\n",
    "\n",
    "data['Rating'].fillna(0.0, inplace=True)\n",
    "data['Rating Count'].fillna(0.0, inplace=True)"
   ]
  },
  {
   "cell_type": "code",
   "execution_count": null,
   "metadata": {},
   "outputs": [],
   "source": [
    "# Nadoknadjivnje velicine aplikacije\n",
    "\n",
    "X = categories.copy(deep=True)\n",
    "\n",
    "y = data['Size']\n",
    "missing_indexes = y[y.isnull()].index.to_list()\n",
    "y.dropna(inplace=True)\n",
    "\n",
    "X.drop(missing_indexes, inplace=True)\n",
    "\n",
    "X_missing = categories.copy(deep=True)\n",
    "X_missing = X_missing.iloc[missing_indexes]"
   ]
  },
  {
   "cell_type": "code",
   "execution_count": null,
   "metadata": {},
   "outputs": [],
   "source": [
    "# fit-ovanje modela\n",
    "\n",
    "knn_regressor = KNeighborsRegressor()\n",
    "knn_regressor.fit(X,y)"
   ]
  },
  {
   "cell_type": "code",
   "execution_count": null,
   "metadata": {},
   "outputs": [],
   "source": [
    "# nadoknadjivanje missing vrednosti\n",
    "\n",
    "##### IZ NEPOZNATOG RAZLOGA PREVISE VREMENA TRAJE. 9MIN SAM GA PUSTIO I NIJE URADIO #####\n",
    "\n",
    "y_missing = knn_regressor.predict()"
   ]
  },
  {
   "cell_type": "code",
   "execution_count": null,
   "metadata": {},
   "outputs": [],
   "source": [
    "# SIZE\n",
    "# RESITI NADOKNJADJIVANJE VELICINA APLIKACIJA\n",
    "# MOZDA ODRADITI AVERAGE PO KATEGORIJAMA\n",
    "\n",
    "# MINIMUM ANDROID\n",
    "# RESITI SE \"NaN\" i \"Varies with device\" PODATAKA\n",
    "\n",
    "# RELEASED\n",
    "# RESITI SE \"NaN\" PODATAKA\n",
    "\n",
    "# NAPRAVITI MODEL\n",
    "\n",
    "# ZAVRSITI GUI - U TOKU VIKENDA CE BITI GOTOV\n"
   ]
  }
 ],
 "metadata": {
  "kernelspec": {
   "display_name": "Python 3",
   "language": "python",
   "name": "python3"
  },
  "language_info": {
   "codemirror_mode": {
    "name": "ipython",
    "version": 3
   },
   "file_extension": ".py",
   "mimetype": "text/x-python",
   "name": "python",
   "nbconvert_exporter": "python",
   "pygments_lexer": "ipython3",
   "version": "3.12.0"
  }
 },
 "nbformat": 4,
 "nbformat_minor": 2
}
